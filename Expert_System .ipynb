{
 "cells": [
  {
   "cell_type": "code",
   "execution_count": 1,
   "metadata": {},
   "outputs": [],
   "source": [
    "import pandas as pd\n",
    "import sys\n",
    "import os"
   ]
  },
  {
   "cell_type": "code",
   "execution_count": 2,
   "metadata": {},
   "outputs": [],
   "source": [
    "data_path = \"C:\\\\Users\\\\user\\\\Python_Anaconda\\\\task\\\\06\\\\DataSet\"\n",
    "results_path = \"C:\\\\Users\\\\user\\\\Python_Anaconda\\\\task\\\\06\\\\Results\"\n",
    "code_path = \"C:\\\\Users\\\\user\\\\Python_Anaconda\\\\task\\\\06\\\\Code\"\n",
    "model_info_path = os.path.join(results_path,'model info')\n",
    "sys.path.insert(0,code_path)\n",
    "import Disease_prediction_based_on_human_activity"
   ]
  },
  {
   "cell_type": "code",
   "execution_count": 3,
   "metadata": {},
   "outputs": [],
   "source": [
    "dataset = pd.read_csv(os.path.join(data_path,\"new_test_dayaset.csv\"),)"
   ]
  },
  {
   "cell_type": "code",
   "execution_count": 4,
   "metadata": {},
   "outputs": [
    {
     "name": "stdout",
     "output_type": "stream",
     "text": [
      "************************* Subject Number :  2 ************************* \n",
      "\n"
     ]
    },
    {
     "name": "stderr",
     "output_type": "stream",
     "text": [
      "C:\\ProgramData\\Anaconda3\\lib\\site-packages\\sklearn\\base.py:338: UserWarning: Trying to unpickle estimator LabelEncoder from version 0.22.1 when using version 1.0.2. This might lead to breaking code or invalid results. Use at your own risk. For more info please refer to:\n",
      "https://scikit-learn.org/stable/modules/model_persistence.html#security-maintainability-limitations\n",
      "  UserWarning,\n"
     ]
    },
    {
     "name": "stdout",
     "output_type": "stream",
     "text": [
      "The Disease From predicted Activity  is :  Healthy \n",
      "\n",
      "The Disease From Reall Activity  is :  Healthy \n",
      "\n",
      "************************* Subject Number :  4 ************************* \n",
      "\n",
      "The Disease From predicted Activity  is :  Foot Pain \n",
      "\n",
      "The Disease From Reall Activity  is :  Foot Pain \n",
      "\n",
      "************************* Subject Number :  9 ************************* \n",
      "\n",
      "The Disease From predicted Activity  is :  Healthy But sometimes Have Insomnia \n",
      "\n",
      "The Disease From Reall Activity  is :  Healthy But sometimes Have Insomnia \n",
      "\n",
      "************************* Subject Number :  10 ************************* \n",
      "\n",
      "The Disease From predicted Activity  is :  Healthy \n",
      "\n",
      "The Disease From Reall Activity  is :  Healthy But sometimes Have Insomnia \n",
      "\n",
      "************************* Subject Number :  12 ************************* \n",
      "\n",
      "The Disease From predicted Activity  is :  Obesity \n",
      "\n",
      "The Disease From Reall Activity  is :  Obesity \n",
      "\n",
      "************************* Subject Number :  13 ************************* \n",
      "\n",
      "The Disease From predicted Activity  is :  Healthy \n",
      "\n",
      "The Disease From Reall Activity  is :  Arthritis \n",
      "\n",
      "************************* Subject Number :  18 ************************* \n",
      "\n",
      "The Disease From predicted Activity  is :  Heart And Blood Vessel Problems \n",
      "\n",
      "The Disease From Reall Activity  is :  Heart And Blood Vessel Problems \n",
      "\n",
      "************************* Subject Number :  20 ************************* \n",
      "\n",
      "The Disease From predicted Activity  is :  Bedsores \n",
      "\n",
      "The Disease From Reall Activity  is :  Bedsores \n",
      "\n",
      "************************* Subject Number :  24 ************************* \n",
      "\n",
      "The Disease From predicted Activity  is :  Back Pains \n",
      "\n",
      "The Disease From Reall Activity  is :  Back Pains \n",
      "\n"
     ]
    }
   ],
   "source": [
    "for Subject_id in set(dataset['subject']):\n",
    "    print(25*\"*\", \"Subject Number : \", Subject_id, 25*\"*\",\"\\n\")\n",
    "    Disease, DiseaseFromReallActivites = Disease_prediction_based_on_human_activity.Pipeline(Subject_id)\n",
    "    print(\"The Disease From predicted Activity  is : \", Disease,\"\\n\")  # 13\n",
    "    print(\"The Disease From Reall Activity  is : \", DiseaseFromReallActivites,\"\\n\")  # 13    "
   ]
  },
  {
   "cell_type": "code",
   "execution_count": null,
   "metadata": {},
   "outputs": [],
   "source": []
  }
 ],
 "metadata": {
  "kernelspec": {
   "display_name": "Python 3",
   "language": "python",
   "name": "python3"
  },
  "language_info": {
   "codemirror_mode": {
    "name": "ipython",
    "version": 3
   },
   "file_extension": ".py",
   "mimetype": "text/x-python",
   "name": "python",
   "nbconvert_exporter": "python",
   "pygments_lexer": "ipython3",
   "version": "3.7.6"
  }
 },
 "nbformat": 4,
 "nbformat_minor": 4
}
